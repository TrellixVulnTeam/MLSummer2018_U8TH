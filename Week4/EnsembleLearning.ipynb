{
 "cells": [
  {
   "cell_type": "markdown",
   "metadata": {},
   "source": [
    "# Chapter 7: Combining Different Models for Ensemble Learning\n",
    "In this chapter we will explore methods for combining the estimators from previous sections to increase the overall classification of the ML algorithm. Specifically, we will discuss:\n",
    "1. The logic behind using ensembles of classifiers\n",
    "2. Review of Ch. 6, combining classifiers via pipelines\n",
    "3. Majority voting\n",
    "4. Bagging (if time permits)\n",
    "\n",
    "## Why Use Ensemble Learning?\n",
    "It is purely a probalistic argument. \n",
    "\n",
    "Suppose you have 11 independent classifiers, each with a known accuracy of 0.80 for a two-class problem, and you decide to classify your data as whatever label the majority of the 11 classifiers show. The probability that you will get the correct classification with this ensemble can be calculated from the binomial distribution:\n",
    "$$ \\textrm{Accuracy} = \\textrm{Prob}(X\\geq 6; X=\\textrm{bin}(n=11, p=0.8)) = \\sum_{k=6}^{11} {11\\choose k}(0.80)^k(0.2)^{11-k} = 0.98835 $$\n",
    "\n",
    "Clearly an ensemble can perform much more accurately than each of its constituents. We will now look at different ways of exploiting and implementing ensemble learning techniques.\n",
    "\n",
    "*Technical Note*: The ensemble will only perform better than the individual classifiers if the individual classifiers themselves perform better than random guessing."
   ]
  },
  {
   "cell_type": "markdown",
   "metadata": {},
   "source": [
    "## Majority Voting\n",
    "Majority voting is the most straight forward method of ensemble learning: just chain together your favorite estimators / pipelines and compute the final classification of each data point.\n",
    "\n",
    "Sebastian Raschka integrated a `VotingClassifier` in SK-Learn shortly after writing this book that can use majority voting (default) or other weighted voting schemes. The documentation for the SK-Learn module is available [here](http://scikit-learn.org/stable/modules/generated/sklearn.ensemble.VotingClassifier.html).\n",
    "\n",
    "Let's start looking at how this module works by loading the Wisconsin Breast Cancer Dataset. As a reminder, this dataset documents 30 attributes of tumors with 2 class labels of maglignant and benign."
   ]
  },
  {
   "cell_type": "code",
   "execution_count": 1,
   "metadata": {},
   "outputs": [],
   "source": [
    "#Load Breast Cancer Dataset\n",
    "import pandas as pd\n",
    "from sklearn.datasets import load_breast_cancer\n",
    "cancer = load_breast_cancer()\n",
    "df = pd.DataFrame(cancer.data, columns=cancer.feature_names)\n",
    "\n",
    "#Drop the three most important columns to make problem more challenging\n",
    "df = df.drop(labels=['worst radius', 'worst area', 'worst perimeter'], \n",
    "             axis=1)\n",
    "\n",
    "#Create SK-Learn standard X and y arrays\n",
    "X = df.values\n",
    "y = cancer.target"
   ]
  },
  {
   "cell_type": "markdown",
   "metadata": {},
   "source": [
    "Once we have the dataset loaded and preprocessed, we create training and test datasets"
   ]
  },
  {
   "cell_type": "code",
   "execution_count": 2,
   "metadata": {},
   "outputs": [],
   "source": [
    "from sklearn.model_selection import train_test_split\n",
    "X_train, X_test, y_train, y_test = train_test_split(X, y, test_size=0.20, random_state=1)"
   ]
  },
  {
   "cell_type": "markdown",
   "metadata": {},
   "source": [
    "Now import a bunch of stuff"
   ]
  },
  {
   "cell_type": "code",
   "execution_count": 3,
   "metadata": {},
   "outputs": [],
   "source": [
    "from sklearn.model_selection import cross_val_score\n",
    "from sklearn.preprocessing import StandardScaler\n",
    "from sklearn.linear_model import LogisticRegression\n",
    "from sklearn.tree import DecisionTreeClassifier\n",
    "from sklearn.neighbors import KNeighborsClassifier \n",
    "from sklearn.pipeline import Pipeline\n",
    "import numpy as np"
   ]
  },
  {
   "cell_type": "markdown",
   "metadata": {},
   "source": [
    "Now we will create a few classifiers to form our ensemble"
   ]
  },
  {
   "cell_type": "code",
   "execution_count": 4,
   "metadata": {},
   "outputs": [],
   "source": [
    "#Logistic Regression with standardized features\n",
    "clf1 = LogisticRegression(penalty='l2', C=0.001, random_state=0)\n",
    "pipe1 = Pipeline([['sc', StandardScaler()], ['clf', clf1]])\n",
    "\n",
    "#Decision Tree Classifier\n",
    "clf2 = DecisionTreeClassifier(max_depth=1, criterion='entropy', random_state=0)\n",
    "\n",
    "#KNN Classifier with standardized features\n",
    "clf3 = KNeighborsClassifier(n_neighbors=1, p=2, metric='minkowski')\n",
    "pipe3 = Pipeline([['sc', StandardScaler()], ['clf', clf3]])"
   ]
  },
  {
   "cell_type": "markdown",
   "metadata": {},
   "source": [
    "Let's see how these three classifiers do individually on our dataset. The metric used is the area under the classifier's ROC curve (ROC AUC)."
   ]
  },
  {
   "cell_type": "code",
   "execution_count": 20,
   "metadata": {},
   "outputs": [
    {
     "name": "stdout",
     "output_type": "stream",
     "text": [
      "10-fold cross validation:\n",
      "-------------------------\n",
      "ROC AUC: 0.98 (+/- 0.01) [Logistic Regression]\n",
      "ROC AUC: 0.90 (+/- 0.04) [Decision Tree]\n",
      "ROC AUC: 0.95 (+/- 0.02) [KNN]\n"
     ]
    }
   ],
   "source": [
    "clf_labels = ['Logistic Regression', 'Decision Tree', 'KNN']\n",
    "print('10-fold cross validation:\\n-------------------------')\n",
    "for clf, label in zip([pipe1, clf2, pipe3], clf_labels):\n",
    "    scores = cross_val_score(estimator=clf, \n",
    "                             X=X_train, \n",
    "                             y=y_train, \n",
    "                             cv=10, \n",
    "                             scoring='roc_auc')\n",
    "    print(\"ROC AUC: %0.2f (+/- %0.2f) [%s]\" \\\n",
    "          % (scores.mean(), scores.std(), label))"
   ]
  },
  {
   "cell_type": "markdown",
   "metadata": {},
   "source": [
    "Not too bad, and not much room for improvement, but let's try combining the classifications of the three estimators. Classification now requires the agreement of two out of the three estimators. The implementation here uses the SK-Learn `VotingClassifier` module instead of the code presented in the book, but there are very few differences."
   ]
  },
  {
   "cell_type": "code",
   "execution_count": 22,
   "metadata": {},
   "outputs": [
    {
     "name": "stdout",
     "output_type": "stream",
     "text": [
      "Ensemble Learning:\n",
      "-------------------------\n",
      "ROC AUC: 0.99 (+/- 0.01) [Majority Voting]\n"
     ]
    }
   ],
   "source": [
    "from sklearn.ensemble import VotingClassifier\n",
    "mv_clf = VotingClassifier([('pipe1', pipe1), ('clf2', clf2), ('pipe3', pipe3)], \n",
    "                          voting='soft', \n",
    "                          n_jobs=-1)\n",
    "mv_clf_label = 'Majority Voting'\n",
    "mv_score = cross_val_score(estimator=mv_clf, \n",
    "                           X=X_train, \n",
    "                           y=y_train, \n",
    "                           cv=10, \n",
    "                           scoring='roc_auc')\n",
    "print('Ensemble Learning:\\n-------------------------')\n",
    "print(\"ROC AUC: %0.2f (+/- %0.2f) [%s]\" % (mv_score.mean(), mv_score.std(), mv_clf_label))"
   ]
  },
  {
   "cell_type": "markdown",
   "metadata": {},
   "source": [
    "### Evaluation and Tuning\n",
    "Since the first try for an ensemble learning algorithm might not always perform optimally (we got somewhat lucky here), we want to have metrics for performance as well as be able to see exaclty what the ensemble classifier is doing.\n",
    "\n",
    "We can start with a ROC curve comparing the `'Majority Voting'` classifier to its constituents."
   ]
  },
  {
   "cell_type": "code",
   "execution_count": 23,
   "metadata": {},
   "outputs": [
    {
     "data": {
      "image/png": "[encoded data removed]",
      "text/plain": [
       "<matplotlib.figure.Figure at 0x16adfb0>"
      ]
     },
     "metadata": {},
     "output_type": "display_data"
    }
   ],
   "source": [
    "from matplotlib import pyplot as plt\n",
    "from sklearn.metrics import roc_curve\n",
    "from sklearn.metrics import auc\n",
    "\n",
    "#Define plot characteristics\n",
    "all_clf = [pipe1, clf2, pipe3, mv_clf]\n",
    "clf_labels = ['Logistic Regression', 'Decision Tree', 'KNN', 'Majority Voting']\n",
    "colors = ['black', 'orange', 'blue', 'green']\n",
    "linestyles = [':', '--', '-.', '-']\n",
    "\n",
    "#Plot the ROC curves\n",
    "plt.figure(figsize=(12,9))\n",
    "for clf, label, clr, ls in zip(all_clf, clf_labels, colors, linestyles):\n",
    "    y_pred = clf.fit(X_train, y_train).predict_proba(X_test)[:, 1]\n",
    "    fpr, tpr, thresholds = roc_curve(y_true=y_test, y_score=y_pred)\n",
    "    roc_auc = auc(x=fpr, y=tpr)\n",
    "    plt.plot(fpr, tpr, color=clr, linestyle=ls, label='%s (auc = %0.2f)' % (label, roc_auc))\n",
    "    \n",
    "#Format the figure\n",
    "plt.legend(loc='lower right')\n",
    "plt.plot([0, 1], [0, 1], linestyle='--', color='gray', linewidth=2)\n",
    "plt.xlim([-0.1, 1.1])\n",
    "plt.ylim([-0.1, 1.1])\n",
    "plt.grid()\n",
    "plt.xlabel('False Positive Rate')\n",
    "plt.ylabel('True Positive Rate')\n",
    "plt.show()"
   ]
  },
  {
   "cell_type": "markdown",
   "metadata": {},
   "source": [
    "We can also inspect the parameters used in fitting each of the individual components in the ensemble, and observe directly how those parameters are folded into the ensemble itself via the `get_params()` method."
   ]
  },
  {
   "cell_type": "code",
   "execution_count": 11,
   "metadata": {
    "scrolled": true
   },
   "outputs": [
    {
     "data": {
      "text/plain": [
       "{'estimators': [('pipe1', Pipeline(memory=None,\n",
       "        steps=[('sc', StandardScaler(copy=True, with_mean=True, with_std=True)), ['clf', LogisticRegression(C=0.001, class_weight=None, dual=False, fit_intercept=True,\n",
       "             intercept_scaling=1, max_iter=100, multi_class='ovr', n_jobs=1,\n",
       "             penalty='l2', random_state=0, solver='liblinear', tol=0.0001,\n",
       "             verbose=0, warm_start=False)]])),\n",
       "  ('clf2',\n",
       "   DecisionTreeClassifier(class_weight=None, criterion='entropy', max_depth=1,\n",
       "               max_features=None, max_leaf_nodes=None,\n",
       "               min_impurity_decrease=0.0, min_impurity_split=None,\n",
       "               min_samples_leaf=1, min_samples_split=2,\n",
       "               min_weight_fraction_leaf=0.0, presort=False, random_state=0,\n",
       "               splitter='best')),\n",
       "  ('pipe3', Pipeline(memory=None,\n",
       "        steps=[('sc', StandardScaler(copy=True, with_mean=True, with_std=True)), ['clf', KNeighborsClassifier(algorithm='auto', leaf_size=30, metric='minkowski',\n",
       "              metric_params=None, n_jobs=1, n_neighbors=1, p=2,\n",
       "              weights='uniform')]]))],\n",
       " 'flatten_transform': None,\n",
       " 'n_jobs': -1,\n",
       " 'voting': 'soft',\n",
       " 'weights': None,\n",
       " 'pipe1': Pipeline(memory=None,\n",
       "      steps=[('sc', StandardScaler(copy=True, with_mean=True, with_std=True)), ['clf', LogisticRegression(C=0.001, class_weight=None, dual=False, fit_intercept=True,\n",
       "           intercept_scaling=1, max_iter=100, multi_class='ovr', n_jobs=1,\n",
       "           penalty='l2', random_state=0, solver='liblinear', tol=0.0001,\n",
       "           verbose=0, warm_start=False)]]),\n",
       " 'clf2': DecisionTreeClassifier(class_weight=None, criterion='entropy', max_depth=1,\n",
       "             max_features=None, max_leaf_nodes=None,\n",
       "             min_impurity_decrease=0.0, min_impurity_split=None,\n",
       "             min_samples_leaf=1, min_samples_split=2,\n",
       "             min_weight_fraction_leaf=0.0, presort=False, random_state=0,\n",
       "             splitter='best'),\n",
       " 'pipe3': Pipeline(memory=None,\n",
       "      steps=[('sc', StandardScaler(copy=True, with_mean=True, with_std=True)), ['clf', KNeighborsClassifier(algorithm='auto', leaf_size=30, metric='minkowski',\n",
       "            metric_params=None, n_jobs=1, n_neighbors=1, p=2,\n",
       "            weights='uniform')]]),\n",
       " 'pipe1__memory': None,\n",
       " 'pipe1__steps': [('sc',\n",
       "   StandardScaler(copy=True, with_mean=True, with_std=True)),\n",
       "  ['clf',\n",
       "   LogisticRegression(C=0.001, class_weight=None, dual=False, fit_intercept=True,\n",
       "             intercept_scaling=1, max_iter=100, multi_class='ovr', n_jobs=1,\n",
       "             penalty='l2', random_state=0, solver='liblinear', tol=0.0001,\n",
       "             verbose=0, warm_start=False)]],\n",
       " 'pipe1__sc': StandardScaler(copy=True, with_mean=True, with_std=True),\n",
       " 'pipe1__clf': LogisticRegression(C=0.001, class_weight=None, dual=False, fit_intercept=True,\n",
       "           intercept_scaling=1, max_iter=100, multi_class='ovr', n_jobs=1,\n",
       "           penalty='l2', random_state=0, solver='liblinear', tol=0.0001,\n",
       "           verbose=0, warm_start=False),\n",
       " 'pipe1__sc__copy': True,\n",
       " 'pipe1__sc__with_mean': True,\n",
       " 'pipe1__sc__with_std': True,\n",
       " 'pipe1__clf__C': 0.001,\n",
       " 'pipe1__clf__class_weight': None,\n",
       " 'pipe1__clf__dual': False,\n",
       " 'pipe1__clf__fit_intercept': True,\n",
       " 'pipe1__clf__intercept_scaling': 1,\n",
       " 'pipe1__clf__max_iter': 100,\n",
       " 'pipe1__clf__multi_class': 'ovr',\n",
       " 'pipe1__clf__n_jobs': 1,\n",
       " 'pipe1__clf__penalty': 'l2',\n",
       " 'pipe1__clf__random_state': 0,\n",
       " 'pipe1__clf__solver': 'liblinear',\n",
       " 'pipe1__clf__tol': 0.0001,\n",
       " 'pipe1__clf__verbose': 0,\n",
       " 'pipe1__clf__warm_start': False,\n",
       " 'clf2__class_weight': None,\n",
       " 'clf2__criterion': 'entropy',\n",
       " 'clf2__max_depth': 1,\n",
       " 'clf2__max_features': None,\n",
       " 'clf2__max_leaf_nodes': None,\n",
       " 'clf2__min_impurity_decrease': 0.0,\n",
       " 'clf2__min_impurity_split': None,\n",
       " 'clf2__min_samples_leaf': 1,\n",
       " 'clf2__min_samples_split': 2,\n",
       " 'clf2__min_weight_fraction_leaf': 0.0,\n",
       " 'clf2__presort': False,\n",
       " 'clf2__random_state': 0,\n",
       " 'clf2__splitter': 'best',\n",
       " 'pipe3__memory': None,\n",
       " 'pipe3__steps': [('sc',\n",
       "   StandardScaler(copy=True, with_mean=True, with_std=True)),\n",
       "  ['clf',\n",
       "   KNeighborsClassifier(algorithm='auto', leaf_size=30, metric='minkowski',\n",
       "              metric_params=None, n_jobs=1, n_neighbors=1, p=2,\n",
       "              weights='uniform')]],\n",
       " 'pipe3__sc': StandardScaler(copy=True, with_mean=True, with_std=True),\n",
       " 'pipe3__clf': KNeighborsClassifier(algorithm='auto', leaf_size=30, metric='minkowski',\n",
       "            metric_params=None, n_jobs=1, n_neighbors=1, p=2,\n",
       "            weights='uniform'),\n",
       " 'pipe3__sc__copy': True,\n",
       " 'pipe3__sc__with_mean': True,\n",
       " 'pipe3__sc__with_std': True,\n",
       " 'pipe3__clf__algorithm': 'auto',\n",
       " 'pipe3__clf__leaf_size': 30,\n",
       " 'pipe3__clf__metric': 'minkowski',\n",
       " 'pipe3__clf__metric_params': None,\n",
       " 'pipe3__clf__n_jobs': 1,\n",
       " 'pipe3__clf__n_neighbors': 1,\n",
       " 'pipe3__clf__p': 2,\n",
       " 'pipe3__clf__weights': 'uniform'}"
      ]
     },
     "execution_count": 11,
     "metadata": {},
     "output_type": "execute_result"
    }
   ],
   "source": [
    "mv_clf.get_params()"
   ]
  },
  {
   "cell_type": "markdown",
   "metadata": {},
   "source": [
    "Now let's suppose we want to improve our ensemble even further using the `GridSearch` techniques from Chapter 6. The implementation is straightforward, but you must adapt to the naming conventions shown in the output of the `get_params()` method."
   ]
  },
  {
   "cell_type": "code",
   "execution_count": 24,
   "metadata": {
    "scrolled": false
   },
   "outputs": [
    {
     "name": "stdout",
     "output_type": "stream",
     "text": [
      "0.989+/-0.006 {'clf2__max_depth': 1, 'pipe1__clf__C': 0.001}\n",
      "0.992+/-0.004 {'clf2__max_depth': 1, 'pipe1__clf__C': 0.1}\n",
      "0.987+/-0.009 {'clf2__max_depth': 1, 'pipe1__clf__C': 100.0}\n",
      "0.990+/-0.005 {'clf2__max_depth': 2, 'pipe1__clf__C': 0.001}\n",
      "0.992+/-0.004 {'clf2__max_depth': 2, 'pipe1__clf__C': 0.1}\n",
      "0.991+/-0.005 {'clf2__max_depth': 2, 'pipe1__clf__C': 100.0}\n"
     ]
    },
    {
     "name": "stderr",
     "output_type": "stream",
     "text": [
      "c:\\users\\owner\\appdata\\local\\programs\\python\\python36-32\\lib\\site-packages\\sklearn\\model_selection\\_search.py:761: DeprecationWarning: The grid_scores_ attribute was deprecated in version 0.18 in favor of the more elaborate cv_results_ attribute. The grid_scores_ attribute will not be available from 0.20\n",
      "  DeprecationWarning)\n"
     ]
    }
   ],
   "source": [
    "from sklearn.model_selection import GridSearchCV\n",
    "params = {'clf2__max_depth': [1, 2], 'pipe1__clf__C': [0.001, 0.1, 100.0]}\n",
    "grid = GridSearchCV(estimator=mv_clf, param_grid=params, cv=10, scoring='roc_auc', n_jobs=-1)\n",
    "grid.fit(X_train, y_train)\n",
    "for params, mean_score, scores in grid.grid_scores_:\n",
    "    print(\"%0.3f+/-%0.3f %r\" % (mean_score, scores.std() / 2, params))"
   ]
  },
  {
   "cell_type": "markdown",
   "metadata": {},
   "source": [
    "To conclude this example, we can see that the ROC AUC value is maximized when the inverse of the regularization strength for the `LogisticRegressionClassifier` component of the ensemble is set to 0.1.\n",
    "\n",
    "It is possible to expand the `GridSearch` to cover more of the parameter space and to include more classifiers in the ensemble in cases where the previous implementation is insufficient."
   ]
  },
  {
   "cell_type": "code",
   "execution_count": null,
   "metadata": {},
   "outputs": [],
   "source": []
  }
 ],
 "metadata": {
  "kernelspec": {
   "display_name": "Python 3",
   "language": "python",
   "name": "python3"
  },
  "language_info": {
   "codemirror_mode": {
    "name": "ipython",
    "version": 3
   },
   "file_extension": ".py",
   "mimetype": "text/x-python",
   "name": "python",
   "nbconvert_exporter": "python",
   "pygments_lexer": "ipython3",
   "version": "3.6.1"
  }
 },
 "nbformat": 4,
 "nbformat_minor": 2
}
