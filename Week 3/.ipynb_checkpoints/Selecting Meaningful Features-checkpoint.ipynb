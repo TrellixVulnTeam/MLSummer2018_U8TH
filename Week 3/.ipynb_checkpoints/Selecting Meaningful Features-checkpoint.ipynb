{
 "cells": [
  {
   "cell_type": "markdown",
   "metadata": {},
   "source": [
    "# Selecting Meaningful Features\n",
    "\n",
    "Having a large amount of features in your dataset can be a boon by providing you with additionall info but it can also be computationally costly and decrease algorithm performance.\n",
    "\n",
    "I'll show you a few ways of minimizing dimensionality by selecting for meaningful features"
   ]
  },
  {
   "cell_type": "markdown",
   "metadata": {},
   "source": [
    "## L1 and L2 regularization\n",
    "\n",
    "We can introduce penalties for large weights or high dimensionality using L1 and L2 regularization. These techniques add an additional cost to regression algorithms based on the shape of the weights vector ***W***"
   ]
  },
  {
   "cell_type": "code",
   "execution_count": null,
   "metadata": {},
   "outputs": [],
   "source": []
  }
 ],
 "metadata": {
  "kernelspec": {
   "display_name": "Python 2",
   "language": "python",
   "name": "python2"
  },
  "language_info": {
   "codemirror_mode": {
    "name": "ipython",
    "version": 2
   },
   "file_extension": ".py",
   "mimetype": "text/x-python",
   "name": "python",
   "nbconvert_exporter": "python",
   "pygments_lexer": "ipython2",
   "version": "2.7.14"
  }
 },
 "nbformat": 4,
 "nbformat_minor": 2
}
