{
 "cells": [
  {
   "cell_type": "markdown",
   "metadata": {},
   "source": [
    "# Training Machine Learning Algorithms for Classifications\n",
    "\n",
    "An introduction to linear classifiers in machine learning.\n",
    "\n",
    "## Rosenblatt's Perceptron Rule\n",
    "Overview: \n",
    "For a dataset with features $\\textbf{x} = (x_1, x_2, ... , x_n)$, we want to find weights $\\textbf{w} = (w_1, w_2, ... , w_n)$ such that the scalar quantity $\\textbf{x} \\cdot \\textbf{w}$ provides meaningful insight as to the classification of the item in the dataset.\n",
    "\n",
    "Procedure: \n",
    "1. For some cutoff value $\\theta$, if $\\textbf{x} \\cdot \\textbf{w} > \\theta$ we classify the item with features $\\textbf{x}$ as type A and otherwise we classify the item as type B. \n",
    "2. Check the classification accuracy (various methods of doing this exist), and adjust the weights $\\textbf{w}$ as needed.\n",
    "3. Repeat until a preset stopping point is reached.\n"
   ]
  },
  {
   "cell_type": "markdown",
   "metadata": {},
   "source": [
    "### Implementation\n",
    "\n",
    "1. We need a way to compute the value of $\\textbf{x} \\cdot \\textbf{w}$. For simplicity, we can set $w_0 = -\\theta$ and $x_0 = 1$ so that we will always be comparing $\\textbf{x} \\cdot \\textbf{w}$ to zero instead of $\\theta$.\n",
    "```python\n",
    "def net_input(self, X):\n",
    "        return np.dot(X, self.w_[1:]) + self.w_[0]\n",
    "```\n",
    "2. We need a way to classify an item based on the value returned by ```net_input```.\n",
    "```python\n",
    "def predict(self, X):\n",
    "        return np.where(self.net_input(X) >= 0.0, 1, -1)\n",
    "```\n",
    "3. We need to initilize the perceptron object with the desired hyperparameter.\n",
    "```python\n",
    "def __init__(self, eta=0.01, n_iter=10):\n",
    "        self.eta = eta         # Learning Rate, 0.0 < eta < 1.0\n",
    "        self.n_iter = n_iter   # Number of iterations\n",
    "```\n",
    "4. Lastly, we need a way to implement these features and adjust the weights to maximize the classification accuracy. The weight adjustment is performed according to the perceptron rule:\n",
    "$$w_j\\equiv w_j + \\eta\\left(y^{(i)}-\\hat{y}^{(i)}\\right)x_j^{(i)}$$\n",
    "```python\n",
    "def fit(self, X, y):\n",
    "        self.w_ = np.zeros(1 + X.shape[1])       # Initialize weights to zero\n",
    "        self.errors_ = []\n",
    "        for _ in range(self.n_iter):\n",
    "                errors = 0\n",
    "                for xi, target in zip(X, y):     # Apply perceptron rule\n",
    "                        update = self.eta * (target - self.predict(xi))\n",
    "                        self.w_[1:] += update * xi\n",
    "                        self.w_[0] += update\n",
    "                        errors += int(update != 0.0)\n",
    "                self.errors_.append(errors)      # Record misclassifications\n",
    "        return self         \n",
    "```\n",
    "\n",
    "We can build the ```Perceptron``` Class and give it the above characteristics."
   ]
  },
  {
   "cell_type": "code",
   "execution_count": 9,
   "metadata": {},
   "outputs": [],
   "source": [
    "import numpy as np\n",
    "\n",
    "\"\"\" Define the Perceptron Class \"\"\"\n",
    "class Perceptron(object):\n",
    "    \"\"\" Initialize Perceptron with desired hyperparameters \"\"\"\n",
    "    def __init__(self, eta=0.01, n_iter=10):\n",
    "        self.eta = eta\n",
    "        self.n_iter = n_iter\n",
    "    \n",
    "    \"\"\" Fit dataset, compute errors, update weights \"\"\"\n",
    "    def fit(self, X, y):\n",
    "        self.w_ = np.zeros(1 + X.shape[1])\n",
    "        self.errors_ = []\n",
    "        for _ in range(self.n_iter):\n",
    "            errors = 0\n",
    "            for xi, target in zip(X, y):\n",
    "                update = self.eta * (target - self.predict(xi))\n",
    "                self.w_[1:] += update * xi\n",
    "                self.w_[0] += update\n",
    "                errors += int(update != 0.0)\n",
    "            self.errors_.append(errors)\n",
    "        #print(_)\n",
    "        return self\n",
    "    \n",
    "    \"\"\" Use matrix multiplication to compute x.w for whole dataset\"\"\"\n",
    "    def net_input(self, X):\n",
    "        return np.dot(X, self.w_[1:]) + self.w_[0]\n",
    "    \n",
    "    \"\"\" Classify item based on value of x.w \"\"\"\n",
    "    def predict(self, X):\n",
    "        return np.where(self.net_input(X) >= 0.0, 1, -1)"
   ]
  },
  {
   "cell_type": "markdown",
   "metadata": {},
   "source": [
    "### Aplication\n",
    "We can now use the perceptron framework to work with the iris dataset."
   ]
  },
  {
   "cell_type": "code",
   "execution_count": 3,
   "metadata": {},
   "outputs": [
    {
     "name": "stdout",
     "output_type": "stream",
     "text": [
      "X=\n",
      " [[ 5.1  1.4]\n",
      " [ 4.9  1.4]\n",
      " [ 4.7  1.3]\n",
      " [ 4.6  1.5]\n",
      " [ 5.   1.4]]\n",
      "y=\n",
      " [-1 -1 -1 -1 -1]\n"
     ]
    }
   ],
   "source": [
    "import pandas as pd\n",
    "\n",
    "\"\"\" Import iris dataset, load into DF, create data subset and labels \"\"\"\n",
    "iris_url = 'https://archive.ics.uci.edu/ml/machine-learning-databases/iris/iris.data'\n",
    "df = pd.read_csv(iris_url, header=None)\n",
    "\n",
    "#X = df.iloc[0:100, [0, 1, 2]].values\n",
    "X = df.iloc[0:100, [0, 2]].values\n",
    "y = df.iloc[0:100, 4].values\n",
    "y = np.where(y == 'Iris-setosa', -1, 1)\n",
    "\n",
    "\"\"\" Sanity checks for output \"\"\"\n",
    "df.head()\n",
    "print(\"X=\\n\", X[0:5])\n",
    "print(\"y=\\n\", y[0:5])\n"
   ]
  },
  {
   "cell_type": "markdown",
   "metadata": {},
   "source": [
    "Initialize and fit a perceptron"
   ]
  },
  {
   "cell_type": "code",
   "execution_count": 10,
   "metadata": {},
   "outputs": [
    {
     "name": "stdout",
     "output_type": "stream",
     "text": [
      "Weights:  [-0.4  -0.68  1.82]\n",
      "Errors:  [2, 2, 3, 2, 1, 0, 0, 0, 0, 0]\n",
      "[-1 -1 -1 -1 -1 -1 -1 -1 -1 -1 -1 -1 -1 -1 -1 -1 -1 -1 -1 -1 -1 -1 -1 -1 -1\n",
      " -1 -1 -1 -1 -1 -1 -1 -1 -1 -1 -1 -1 -1 -1 -1 -1 -1 -1 -1 -1 -1 -1 -1 -1 -1\n",
      "  1  1  1  1  1  1  1  1  1  1  1  1  1  1  1  1  1  1  1  1  1  1  1  1  1\n",
      "  1  1  1  1  1  1  1  1  1  1  1  1  1  1  1  1  1  1  1  1  1  1  1  1  1]\n",
      "[-1 -1 -1 -1 -1 -1 -1 -1 -1 -1 -1 -1 -1 -1 -1 -1 -1 -1 -1 -1 -1 -1 -1 -1 -1\n",
      " -1 -1 -1 -1 -1 -1 -1 -1 -1 -1 -1 -1 -1 -1 -1 -1 -1 -1 -1 -1 -1 -1 -1 -1 -1\n",
      "  1  1  1  1  1  1  1  1  1  1  1  1  1  1  1  1  1  1  1  1  1  1  1  1  1\n",
      "  1  1  1  1  1  1  1  1  1  1  1  1  1  1  1  1  1  1  1  1  1  1  1  1  1]\n"
     ]
    }
   ],
   "source": [
    "ppn = Perceptron(eta=0.1, n_iter=10)\n",
    "ppn.fit(X,y)\n",
    "print(\"Weights: \", ppn.w_)\n",
    "print(\"Errors: \", ppn.errors_)\n",
    "print(y)\n",
    "print(ppn.predict(X))"
   ]
  },
  {
   "cell_type": "markdown",
   "metadata": {},
   "source": [
    "Plot Number of misclassificaitons versus number of iterations"
   ]
  },
  {
   "cell_type": "code",
   "execution_count": 6,
   "metadata": {},
   "outputs": [
    {
     "data": {
      "image/png": "[encoded data removed]",
      "text/plain": [
       "<matplotlib.figure.Figure at 0x8762990>"
      ]
     },
     "metadata": {},
     "output_type": "display_data"
    }
   ],
   "source": [
    "from matplotlib import pyplot as plt\n",
    "\n",
    "plt.plot(range(1, len(ppn.errors_) + 1), ppn.errors_, marker='o')\n",
    "plt.xlabel(\"Number of Iterations\")\n",
    "plt.ylabel(\"Number of Misclassicifations\")\n",
    "plt.show()"
   ]
  },
  {
   "cell_type": "markdown",
   "metadata": {},
   "source": [
    "## Adaptive Linear Neurons"
   ]
  },
  {
   "cell_type": "markdown",
   "metadata": {},
   "source": [
    "Use same framework as the perceptron, but adjust the weights by minimizing cost functions with gradient descent\n",
    "![alt text](02_09.png)"
   ]
  },
  {
   "cell_type": "markdown",
   "metadata": {},
   "source": [
    "### Changes to the Perceptron Class\n",
    "We can change the fit method so that the weights are updated based on the minimization of a cost function.\n",
    "$$J(w) = \\frac{1}{2}\\sum_{i}\\left(y^{(i)}-\\phi(z^{(i)})\\right)^2$$\n",
    "\n",
    "We will still update the weights in the the same way: $\\textbf{w}\\equiv\\textbf{w}+\\Delta\\textbf{w}$, but now we express the update to the weight $\\Delta\\textbf{w}$ via $\\Delta\\textbf{w}=-\\eta\\nabla J(\\textbf{w})$. Thus, our rule becomes:\n",
    "$$\\textbf{w}\\equiv\\textbf{w}+\\eta\\sum_{i}\\left(y^{(i)}-\\phi(z^{(i)})\\right)\\textbf{x}^{(i)}$$\n",
    "\n",
    "Incorporating this new method of updating the weights into our ```fit``` method, we can write\n",
    "```python\n",
    "def fit(self, X, y):\n",
    "        self.w_ = np.zeros(1 + X.shape[1])   #Start weights at zero\n",
    "        self.cost_ = []\n",
    "        for i in range(self.n_iter):\n",
    "            output = self.net_input(X)       #Implement new rule\n",
    "            errors = (y - output)\n",
    "            self.w_[1:] += self.eta * X.T.dot(errors)\n",
    "            self.w_[0] += self.eta * errors.sum()\n",
    "            cost = (errors**2).sum() / 2.0   #Keep track of cost\n",
    "            self.cost_.append(cost)\n",
    "        return self\n",
    "```"
   ]
  },
  {
   "cell_type": "markdown",
   "metadata": {},
   "source": [
    "### Implementation\n",
    "\n",
    "Now we can construct the ```AdalineGD``` class to incorporate cost fucntion minimization into our linear classifier:"
   ]
  },
  {
   "cell_type": "code",
   "execution_count": 11,
   "metadata": {},
   "outputs": [],
   "source": [
    "class AdalineGD(object):\n",
    "    def __init__(self, eta=0.01, n_iter=50):\n",
    "        self.eta = eta\n",
    "        self.n_iter = n_iter\n",
    "        \n",
    "    def fit(self, X, y):\n",
    "        self.w_ = np.zeros(1 + X.shape[1])\n",
    "        self.cost_ = []\n",
    "        for i in range(self.n_iter):\n",
    "            output = self.net_input(X)\n",
    "            errors = (y - output)\n",
    "            self.w_[1:] += self.eta * X.T.dot(errors)\n",
    "            self.w_[0] += self.eta * errors.sum()\n",
    "            cost = (errors**2).sum() / 2.0\n",
    "            self.cost_.append(cost)\n",
    "        return self\n",
    "    \n",
    "    def net_input(self, X):\n",
    "        return np.dot(X, self.w_[1:]) + self.w_[0]\n",
    "    \n",
    "    def activation(self, X):\n",
    "        return self.net_input(X)\n",
    "    \n",
    "    def predict(self, X):\n",
    "        return np.where(self.activation(X) >= 0.0, 1, -1)"
   ]
  },
  {
   "cell_type": "markdown",
   "metadata": {},
   "source": [
    "Initialize, fit, and output the results of an Adaline classifier:"
   ]
  },
  {
   "cell_type": "code",
   "execution_count": 12,
   "metadata": {},
   "outputs": [
    {
     "name": "stdout",
     "output_type": "stream",
     "text": [
      "Weights:  [ -3.79038389e+13  -2.11689469e+14  -1.18464807e+14]\n",
      "Costs:  [50.0, 2230.8539602549999, 3475977.0425619674, 5423372722.5878296, 8461791557634.333, 13202470134517626.0, 2.0599091394023023e+19, 3.2139634624124605e+22, 5.0145712449819432e+25, 7.8239609955381231e+28]\n",
      "[-1 -1 -1 -1 -1 -1 -1 -1 -1 -1 -1 -1 -1 -1 -1 -1 -1 -1 -1 -1 -1 -1 -1 -1 -1\n",
      " -1 -1 -1 -1 -1 -1 -1 -1 -1 -1 -1 -1 -1 -1 -1 -1 -1 -1 -1 -1 -1 -1 -1 -1 -1\n",
      "  1  1  1  1  1  1  1  1  1  1  1  1  1  1  1  1  1  1  1  1  1  1  1  1  1\n",
      "  1  1  1  1  1  1  1  1  1  1  1  1  1  1  1  1  1  1  1  1  1  1  1  1  1]\n",
      "[-1 -1 -1 -1 -1 -1 -1 -1 -1 -1 -1 -1 -1 -1 -1 -1 -1 -1 -1 -1 -1 -1 -1 -1 -1\n",
      " -1 -1 -1 -1 -1 -1 -1 -1 -1 -1 -1 -1 -1 -1 -1 -1 -1 -1 -1 -1 -1 -1 -1 -1 -1\n",
      " -1 -1 -1 -1 -1 -1 -1 -1 -1 -1 -1 -1 -1 -1 -1 -1 -1 -1 -1 -1 -1 -1 -1 -1 -1\n",
      " -1 -1 -1 -1 -1 -1 -1 -1 -1 -1 -1 -1 -1 -1 -1 -1 -1 -1 -1 -1 -1 -1 -1 -1 -1]\n"
     ]
    }
   ],
   "source": [
    "ada = AdalineGD(n_iter=10, eta=0.01)\n",
    "ada.fit(X, y)\n",
    "print(\"Weights: \", ada.w_)\n",
    "print(\"Costs: \", ada.cost_)\n",
    "print(y)\n",
    "print(ada.predict(X))"
   ]
  },
  {
   "cell_type": "markdown",
   "metadata": {},
   "source": [
    "And again we can plot the results. Here we also consider the effect of different values for the learning rate on classifier performance."
   ]
  },
  {
   "cell_type": "code",
   "execution_count": 13,
   "metadata": {},
   "outputs": [
    {
     "data": {
      "image/png": "[encoded data removed]",
      "text/plain": [
       "<matplotlib.figure.Figure at 0x87c05d0>"
      ]
     },
     "metadata": {},
     "output_type": "display_data"
    }
   ],
   "source": [
    "fig, ax = plt.subplots(nrows=1, ncols=2, figsize=(8, 4))\n",
    "ada1 = AdalineGD(n_iter=10, eta=0.01).fit(X, y)\n",
    "ax[0].plot(range(1, len(ada1.cost_) + 1), np.log10(ada1.cost_), marker='o')\n",
    "ax[0].set_xlabel('Epochs')\n",
    "ax[0].set_ylabel('log(Sum-squared-error)')\n",
    "ax[0].set_title('Adaline - Learning rate 0.01')\n",
    "ada2 = AdalineGD(n_iter=10, eta=0.0001).fit(X, y)\n",
    "ax[1].plot(range(1, len(ada2.cost_) + 1), ada2.cost_, marker='o')\n",
    "ax[1].set_xlabel('Epochs')\n",
    "ax[1].set_ylabel('Sum-squared-error')\n",
    "ax[1].set_title('Adaline - Learning rate 0.0001')\n",
    "plt.show()"
   ]
  },
  {
   "cell_type": "markdown",
   "metadata": {},
   "source": [
    "The vastly different behavior of the classifier for the different values of the learning rate implies it would be useful to standardize our data. We can accomplish the standardization by subtracting the mean and dividing by the standard deviation:\n",
    "$$\\textbf{x}_j' = \\frac{\\textbf{x}_j - \\mu_j}{\\sigma_j}$$\n",
    "Implemented in our code as follows:"
   ]
  },
  {
   "cell_type": "code",
   "execution_count": 14,
   "metadata": {},
   "outputs": [],
   "source": [
    "X_std = np.copy(X)\n",
    "X_std[:,0] = (X[:,0] - X[:,0].mean()) / X[:,0].std()\n",
    "X_std[:,1] = (X[:,1] - X[:,1].mean()) / X[:,1].std()"
   ]
  },
  {
   "cell_type": "markdown",
   "metadata": {},
   "source": [
    "Now we can plot the performance of the Adaline classifier again, and observe the convergence of the classification."
   ]
  },
  {
   "cell_type": "code",
   "execution_count": 15,
   "metadata": {},
   "outputs": [
    {
     "data": {
      "image/png": "[encoded data removed]",
      "text/plain": [
       "<matplotlib.figure.Figure at 0x87c6390>"
      ]
     },
     "metadata": {},
     "output_type": "display_data"
    }
   ],
   "source": [
    "ada = AdalineGD(n_iter=15, eta=0.01)\n",
    "ada.fit(X_std, y)\n",
    "plt.plot(range(1, len(ada.cost_) + 1), ada.cost_, marker='o')\n",
    "plt.xlabel('Epochs')\n",
    "plt.ylabel('Sum-squared-error')\n",
    "plt.show()"
   ]
  },
  {
   "cell_type": "markdown",
   "metadata": {},
   "source": [
    "## Large Scale Machine Learning and Stochastic Gradient Descent\n",
    "\n",
    "In practice, computing the gradient summing over the dataset can become computationally expensive as the problem size increases. For this method we make an approximation in the computation of the gradient descent:\n",
    "$$\\Delta\\textbf{w} = \\eta\\sum_{i}\\left(y^{(i)}-\\phi(z^{(i)})\\right)\\textbf{x}^{(i)} \\rightarrow \\Delta\\textbf{w} = \\eta\\left(y^{(i)}-\\phi(z^{(i)})\\right)\\textbf{x}^{(i)}$$\n",
    "\n",
    "The main difference between this method and the previous method that makes this approximation valid is that we present the data to the weights in randomized order. In this approach, the weights can be updated much more frequently, allowing the classifier to converge quickly, even in the case of a large problem size.\n",
    "\n",
    "The method that randomizes the dataset is as follows:\n",
    "```python\n",
    "def _shuffle(self, X, y):\n",
    "        r = np.random.permutation(len(y))\n",
    "        return X[r], y[r]\n",
    "```\n",
    "\n",
    "These changes and two straightforward helper methods (```_update_weights``` and ```_initialize_weights```) make the fit method much simpler:\n",
    "```python\n",
    "def fit(self, X, y):\n",
    "        self._initialize_weights(X.shape[1])\n",
    "        self.cost_ = []\n",
    "        for i in range(self.n_iter):\n",
    "            if self.shuffle:\n",
    "                X, y = self._shuffle(X, y)\n",
    "            cost = []\n",
    "            for xi, target in zip(X, y):\n",
    "                cost.append(self._update_weights(xi, target))\n",
    "            avg_cost = sum(cost)/len(y)\n",
    "            self.cost_.append(avg_cost)\n",
    "        return self\n",
    "```"
   ]
  },
  {
   "cell_type": "markdown",
   "metadata": {},
   "source": [
    "We can now build the ```AdalineSGD``` class by adding the above methods to our existing framework:"
   ]
  },
  {
   "cell_type": "code",
   "execution_count": 16,
   "metadata": {},
   "outputs": [],
   "source": [
    "from numpy.random import seed\n",
    "\n",
    "class AdalineSGD(object):\n",
    "    def __init__(self, eta=0.01, n_iter=10, shuffle=True, random_state=None):\n",
    "        self.eta = eta\n",
    "        self.n_iter = n_iter\n",
    "        self.w_initialized = False\n",
    "        self.shuffle = shuffle\n",
    "        if random_state:\n",
    "            seed(random_state)\n",
    "            \n",
    "    def fit(self, X, y):\n",
    "        self._initialize_weights(X.shape[1])\n",
    "        self.cost_ = []\n",
    "        for i in range(self.n_iter):\n",
    "            if self.shuffle:\n",
    "                X, y = self._shuffle(X, y)\n",
    "            cost = []\n",
    "            for xi, target in zip(X, y):\n",
    "                cost.append(self._update_weights(xi, target))\n",
    "            avg_cost = sum(cost)/len(y)\n",
    "            self.cost_.append(avg_cost)\n",
    "        return self\n",
    "    \n",
    "    def partial_fit(self, X, y):\n",
    "        if not self.w_initialized:\n",
    "            self._initialize_weights(X.shape[1])\n",
    "        if y.ravel().shape[0] > 1:\n",
    "            for xi, target in zip(X, y):\n",
    "                self._update_weights(xi, target)\n",
    "        else:\n",
    "            self._update_weights(X, y)\n",
    "        return self\n",
    "    \n",
    "    def _shuffle(self, X, y):\n",
    "        r = np.random.permutation(len(y))\n",
    "        return X[r], y[r]\n",
    "    \n",
    "    def _initialize_weights(self, m):\n",
    "        self.w_ = np.zeros(1 + m)\n",
    "        self.w_initialized = True\n",
    "        \n",
    "    def _update_weights(self, xi, target):\n",
    "        output = self.net_input(xi)\n",
    "        error = (target - output)\n",
    "        self.w_[1:] += self.eta * xi.dot(error)\n",
    "        self.w_[0] += self.eta * error\n",
    "        cost = 0.5 * error**2\n",
    "        return cost\n",
    "    \n",
    "    def net_input(self, X):\n",
    "        return np.dot(X, self.w_[1:]) + self.w_[0]\n",
    "    \n",
    "    def activation(self, X):\n",
    "        return self.net_input(X)\n",
    "    \n",
    "    def predict(self, X):\n",
    "        return np.where(self.activation(X) >= 0.0, 1, -1)"
   ]
  },
  {
   "cell_type": "markdown",
   "metadata": {},
   "source": [
    "Now we can initialize and fit an ```AdalineSGD``` object on the iris dataset:"
   ]
  },
  {
   "cell_type": "code",
   "execution_count": 17,
   "metadata": {},
   "outputs": [
    {
     "name": "stdout",
     "output_type": "stream",
     "text": [
      "Weights:  [-0.19467466 -0.35831322  0.80241818]\n",
      "Costs:  [0.27423186997478516, 0.053086202251685373, 0.036615658917803676, 0.031356906331049393, 0.033461127522971819, 0.033945740289373146, 0.032792002737360007, 0.029884090884459012, 0.032688346890308709, 0.033992731622758995, 0.034053779224187515, 0.033539687442828703, 0.032960343116489495, 0.032847973903508507, 0.032798943561161115]\n",
      "[-1 -1 -1 -1 -1 -1 -1 -1 -1 -1 -1 -1 -1 -1 -1 -1 -1 -1 -1 -1 -1 -1 -1 -1 -1\n",
      " -1 -1 -1 -1 -1 -1 -1 -1 -1 -1 -1 -1 -1 -1 -1 -1 -1 -1 -1 -1 -1 -1 -1 -1 -1\n",
      "  1  1  1  1  1  1  1  1  1  1  1  1  1  1  1  1  1  1  1  1  1  1  1  1  1\n",
      "  1  1  1  1  1  1  1  1  1  1  1  1  1  1  1  1  1  1  1  1  1  1  1  1  1]\n",
      "[-1 -1 -1 -1 -1 -1 -1 -1 -1 -1 -1 -1 -1 -1 -1 -1 -1 -1 -1 -1 -1 -1 -1 -1 -1\n",
      " -1 -1 -1 -1 -1 -1 -1 -1 -1 -1 -1 -1 -1 -1 -1 -1 -1 -1 -1 -1 -1 -1 -1 -1 -1\n",
      "  1  1  1  1  1  1  1  1  1  1  1  1  1  1  1  1  1  1  1  1  1  1  1  1  1\n",
      "  1  1  1  1  1  1  1  1  1  1  1  1  1  1  1  1  1  1  1  1  1  1  1  1  1]\n"
     ]
    }
   ],
   "source": [
    "ada = AdalineSGD(n_iter=15, eta=0.01, random_state=1)\n",
    "ada.fit(X_std, y)\n",
    "ada.fit(X, y)\n",
    "print(\"Weights: \", ada.w_)\n",
    "print(\"Costs: \", ada.cost_)\n",
    "print(y)\n",
    "print(ada.predict(X))"
   ]
  },
  {
   "cell_type": "markdown",
   "metadata": {},
   "source": [
    "Lastly, we can plot the performance of this linear classifier and note the quickness of its convergence:"
   ]
  },
  {
   "cell_type": "code",
   "execution_count": 18,
   "metadata": {},
   "outputs": [
    {
     "data": {
      "image/png": "[encoded data removed]",
      "text/plain": [
       "<matplotlib.figure.Figure at 0xf848b0>"
      ]
     },
     "metadata": {},
     "output_type": "display_data"
    }
   ],
   "source": [
    "plt.plot(range(1, len(ada.cost_) + 1), ada.cost_, marker='o')\n",
    "plt.xlabel('Epochs')\n",
    "plt.ylabel('Average Cost')\n",
    "plt.show()"
   ]
  },
  {
   "cell_type": "code",
   "execution_count": null,
   "metadata": {},
   "outputs": [],
   "source": []
  }
 ],
 "metadata": {
  "kernelspec": {
   "display_name": "Python 2",
   "language": "python",
   "name": "python2"
  },
  "language_info": {
   "codemirror_mode": {
    "name": "ipython",
    "version": 2
   },
   "file_extension": ".py",
   "mimetype": "text/x-python",
   "name": "python",
   "nbconvert_exporter": "python",
   "pygments_lexer": "ipython2",
   "version": "2.7.14"
  }
 },
 "nbformat": 4,
 "nbformat_minor": 2
}
